{
 "cells": [
  {
   "cell_type": "code",
   "execution_count": 88,
   "metadata": {},
   "outputs": [
    {
     "name": "stdout",
     "output_type": "stream",
     "text": [
      "/Users/fruechtnicht/NOVA/M.Sc_Data_Science_and_Advanced_Analytics/Semester2/Deep_Learning/Project/project_dir\n",
      "None\n"
     ]
    }
   ],
   "source": [
    "import os\n",
    "\n",
    "import getpass\n",
    "from pathlib import Path, PureWindowsPath # please check this medium article!! https://medium.com/@ageitgey/python-3-quick-tip-the-easy-way-to-deal-with-file-paths-on-windows-mac-and-linux-11a072b58d5f\n",
    "\n",
    "\n",
    "\n",
    "if getpass.getuser() == 'Konrad':\n",
    "    project_dir = Path(PureWindowsPath('D:\\\\DeepLearningProject'))\n",
    "elif getpass.getuser() == 'fruechtnicht':\n",
    "    project_dir = Path('/Users/fruechtnicht/NOVA/M.Sc_Data_Science_and_Advanced_Analytics/Semester2/Deep_Learning/Project/project_dir')\n",
    "else:\n",
    "    raise ValueError('Check you own user name and add proper elif statement !!!')\n",
    "# if you have a windows computer please specify your project path as Konrad, if not as fruechtnicht\n",
    "print(project_dir)\n",
    "print(os.chdir(project_dir/ Path('log')))"
   ]
  },
  {
   "cell_type": "code",
   "execution_count": 89,
   "metadata": {},
   "outputs": [
    {
     "name": "stdout",
     "output_type": "stream",
     "text": [
      "current directory is : /Users/fruechtnicht/NOVA/M.Sc_Data_Science_and_Advanced_Analytics/Semester2/Deep_Learning/Project/project_dir/log\n"
     ]
    }
   ],
   "source": [
    "dirpath = os.getcwd()\n",
    "print(\"current directory is : \" + dirpath)"
   ]
  },
  {
   "cell_type": "code",
   "execution_count": 82,
   "metadata": {},
   "outputs": [],
   "source": []
  },
  {
   "cell_type": "code",
   "execution_count": 95,
   "metadata": {},
   "outputs": [],
   "source": [
    "targets = [\n",
    "            'ethnic'\n",
    "            , \n",
    "            'gender'\n",
    "            ,\n",
    "            'age'\n",
    "            ]"
   ]
  },
  {
   "cell_type": "code",
   "execution_count": 96,
   "metadata": {},
   "outputs": [],
   "source": [
    "import pandas as pd \n",
    "import glob\n",
    "import re\n",
    "import seaborn as sns\n",
    "import matplotlib.pyplot as plt\n",
    "sns.set(rc={'figure.figsize':(24,16)})\n",
    "sns.set_style(\"white\")\n",
    "sns.set_palette(\"Reds\")\n",
    "\n",
    "variables = ['nr_of_channel', 'kernel_size', 'stride', 'hidden_neurons']\n",
    "\n",
    "for target in targets:\n",
    "    \n",
    "    for variable in variables:\n",
    "        final = pd.DataFrame()\n",
    "        for file in glob.glob(\"*testing_\"+target+\"_\"+variable+\"_*\"):\n",
    "            seed = re.search(\"\\d(?=(_training\\.csv))\", file).group(0)  \n",
    "            value = re.search(\"\\d*(?=(_\\d*_training\\.csv))\", file).group(0)  \n",
    "            variable = re.search(\"(?<=\"+target+\"_).*(?=(_\\d*_\\d*_training\\.csv))\", file).group(0)  \n",
    "            df = pd.read_csv(file)\n",
    "            df[variable]= int(value)\n",
    "            df['seed']= int(seed)\n",
    "            final = pd.concat([final,df], axis=0)\n",
    "            \n",
    "            if target == 'age':\n",
    "                metric = 'val_mean_absolute_error'\n",
    "            else: \n",
    "                metric = 'val_acc'\n",
    "    \n",
    "\n",
    "            n_colors = len(final[variable].unique())\n",
    "            palette = sns.color_palette(\"hls\",n_colors)\n",
    "\n",
    "\n",
    "            ax = sns.lineplot(x=\"epoch\", y=metric, data=final, hue=variable, linewidth=5.0,legend=\"full\", palette=palette)\n",
    "            ax.set_title('Performance with different '+variable+ \" for \"+target, fontsize=25)\n",
    "            ax.legend(frameon=False, loc='lower center',ncol=2, fontsize=20)\n",
    "            ax.set_xlabel(\"Epoch\",fontsize=20)\n",
    "            ax.set_ylabel(metric,fontsize=20)\n",
    "            ax.tick_params(labelsize=18)\n",
    "            ax.legend(loc='best',fontsize='xx-large')\n",
    "            fig = ax.get_figure()\n",
    "            plt.savefig(variable+'_'+target+'.png')\n",
    "            plt.close()\n",
    "\n"
   ]
  },
  {
   "cell_type": "code",
   "execution_count": 97,
   "metadata": {},
   "outputs": [],
   "source": [
    "targets = [\n",
    "            'ethnic'\n",
    "            , \n",
    "            'gender'\n",
    "            ,\n",
    "            'age'\n",
    "            ]"
   ]
  },
  {
   "cell_type": "code",
   "execution_count": 98,
   "metadata": {},
   "outputs": [
    {
     "ename": "AttributeError",
     "evalue": "'NoneType' object has no attribute 'group'",
     "output_type": "error",
     "traceback": [
      "\u001b[0;31m---------------------------------------------------------------------------\u001b[0m",
      "\u001b[0;31mAttributeError\u001b[0m                            Traceback (most recent call last)",
      "\u001b[0;32m<ipython-input-98-22c449604877>\u001b[0m in \u001b[0;36m<module>\u001b[0;34m\u001b[0m\n\u001b[1;32m     17\u001b[0m             \u001b[0mseed\u001b[0m \u001b[0;34m=\u001b[0m \u001b[0mre\u001b[0m\u001b[0;34m.\u001b[0m\u001b[0msearch\u001b[0m\u001b[0;34m(\u001b[0m\u001b[0;34m\"\\d(?=(_training\\.csv))\"\u001b[0m\u001b[0;34m,\u001b[0m \u001b[0mfile\u001b[0m\u001b[0;34m)\u001b[0m\u001b[0;34m.\u001b[0m\u001b[0mgroup\u001b[0m\u001b[0;34m(\u001b[0m\u001b[0;36m0\u001b[0m\u001b[0;34m)\u001b[0m\u001b[0;34m\u001b[0m\u001b[0;34m\u001b[0m\u001b[0m\n\u001b[1;32m     18\u001b[0m             \u001b[0mvalue\u001b[0m \u001b[0;34m=\u001b[0m \u001b[0mre\u001b[0m\u001b[0;34m.\u001b[0m\u001b[0msearch\u001b[0m\u001b[0;34m(\u001b[0m\u001b[0;34m\"\\d*(?=(_\\d*_training\\.csv))\"\u001b[0m\u001b[0;34m,\u001b[0m \u001b[0mfile\u001b[0m\u001b[0;34m)\u001b[0m\u001b[0;34m.\u001b[0m\u001b[0mgroup\u001b[0m\u001b[0;34m(\u001b[0m\u001b[0;36m0\u001b[0m\u001b[0;34m)\u001b[0m\u001b[0;34m\u001b[0m\u001b[0;34m\u001b[0m\u001b[0m\n\u001b[0;32m---> 19\u001b[0;31m             \u001b[0mvariable\u001b[0m \u001b[0;34m=\u001b[0m \u001b[0mre\u001b[0m\u001b[0;34m.\u001b[0m\u001b[0msearch\u001b[0m\u001b[0;34m(\u001b[0m\u001b[0;34m\"(?<=\"\u001b[0m\u001b[0;34m+\u001b[0m\u001b[0mtarget\u001b[0m\u001b[0;34m+\u001b[0m\u001b[0;34m\"_).*(?=(_\\d*_\\d*_training\\.csv))\"\u001b[0m\u001b[0;34m,\u001b[0m \u001b[0mfile\u001b[0m\u001b[0;34m)\u001b[0m\u001b[0;34m.\u001b[0m\u001b[0mgroup\u001b[0m\u001b[0;34m(\u001b[0m\u001b[0;36m0\u001b[0m\u001b[0;34m)\u001b[0m\u001b[0;34m\u001b[0m\u001b[0;34m\u001b[0m\u001b[0m\n\u001b[0m\u001b[1;32m     20\u001b[0m             \u001b[0mdf\u001b[0m \u001b[0;34m=\u001b[0m \u001b[0mpd\u001b[0m\u001b[0;34m.\u001b[0m\u001b[0mread_csv\u001b[0m\u001b[0;34m(\u001b[0m\u001b[0mfile\u001b[0m\u001b[0;34m)\u001b[0m\u001b[0;34m\u001b[0m\u001b[0;34m\u001b[0m\u001b[0m\n\u001b[1;32m     21\u001b[0m             \u001b[0mdf\u001b[0m\u001b[0;34m[\u001b[0m\u001b[0mvariable\u001b[0m\u001b[0;34m]\u001b[0m\u001b[0;34m=\u001b[0m \u001b[0mint\u001b[0m\u001b[0;34m(\u001b[0m\u001b[0mvalue\u001b[0m\u001b[0;34m)\u001b[0m\u001b[0;34m\u001b[0m\u001b[0;34m\u001b[0m\u001b[0m\n",
      "\u001b[0;31mAttributeError\u001b[0m: 'NoneType' object has no attribute 'group'"
     ]
    }
   ],
   "source": [
    "import pandas as pd \n",
    "import glob\n",
    "import re\n",
    "import seaborn as sns\n",
    "import matplotlib.pyplot as plt\n",
    "sns.set(rc={'figure.figsize':(24,16)})\n",
    "sns.set_style(\"white\")\n",
    "sns.set_palette(\"Reds\")\n",
    "\n",
    "variables = ['2ConvPool', '4ConvPool', 'ConvConvPool']\n",
    "\n",
    "for target in targets:\n",
    "    \n",
    "    for variable in variables:\n",
    "        final = pd.DataFrame()\n",
    "        for file in glob.glob(\"*testing_\"+target+\"_\"+variable+\"_*\"):\n",
    "            seed = re.search(\"\\d(?=(_training\\.csv))\", file).group(0)  \n",
    "            value = re.search(\"\\d*(?=(_\\d*_training\\.csv))\", file).group(0)  \n",
    "            variable = re.search(\"(?<=\"+target+\"_).*(?=(_\\d*_\\d*_training\\.csv))\", file).group(0)  \n",
    "            df = pd.read_csv(file)\n",
    "            df[variable]= int(value)\n",
    "            df['seed']= int(seed)\n",
    "            final = pd.concat([final,df], axis=0)\n",
    "            \n",
    "            if target == 'age':\n",
    "                metric = 'val_mean_absolute_error'\n",
    "            else: \n",
    "                metric = 'val_acc'\n",
    "    \n",
    "\n",
    "            n_colors = len(final[variable].unique())\n",
    "            palette = sns.color_palette(\"hls\",n_colors)\n",
    "\n",
    "\n",
    "            ax = sns.lineplot(x=\"epoch\", y=metric, data=final, hue=variable, linewidth=5.0,legend=\"full\", palette=palette)\n",
    "            ax.set_title('Performance with different '+variable+ \" for \"+target, fontsize=25)\n",
    "            ax.legend(frameon=False, loc='lower center',ncol=2, fontsize=20)\n",
    "            ax.set_xlabel(\"Epoch\",fontsize=20)\n",
    "            ax.set_ylabel(metric,fontsize=20)\n",
    "            ax.tick_params(labelsize=18)\n",
    "            ax.legend(loc='best',fontsize='xx-large')\n",
    "            fig = ax.get_figure()\n",
    "            plt.savefig(variable+'_'+target+'.png')\n",
    "            plt.close()\n",
    "\n",
    "\n"
   ]
  },
  {
   "cell_type": "code",
   "execution_count": 102,
   "metadata": {},
   "outputs": [
    {
     "name": "stdout",
     "output_type": "stream",
     "text": [
      "testing_ethnic_2ConvPool_2_training.csv\n",
      "testing_ethnic_2ConvPool_1_training.csv\n",
      "testing_ethnic_2ConvPool_0_training.csv\n",
      "testing_ethnic_4ConvPool_2_training.csv\n",
      "testing_ethnic_4ConvPool_0_training.csv\n",
      "testing_ethnic_4ConvPool_1_training.csv\n",
      "testing_ethnic_ConvConvPool_1_training.csv\n",
      "testing_ethnic_ConvConvPool_0_training.csv\n",
      "testing_ethnic_ConvConvPool_2_training.csv\n",
      "testing_age_2ConvPool_2_training.csv\n",
      "testing_age_2ConvPool_0_training.csv\n",
      "testing_age_2ConvPool_1_training.csv\n",
      "testing_age_4ConvPool_2_training.csv\n",
      "testing_age_4ConvPool_1_training.csv\n",
      "testing_age_4ConvPool_0_training.csv\n",
      "testing_age_ConvConvPool_2_training.csv\n",
      "testing_age_ConvConvPool_1_training.csv\n",
      "testing_age_ConvConvPool_0_training.csv\n"
     ]
    }
   ],
   "source": [
    "import re\n",
    "import seaborn as sns\n",
    "import matplotlib.pyplot as plt\n",
    "sns.set(rc={'figure.figsize':(24,16)})\n",
    "sns.set_style(\"white\")\n",
    "sns.set_palette(\"Reds\")\n",
    "\n",
    "variables = ['2ConvPool', '4ConvPool', 'ConvConvPool']\n",
    "\n",
    "for target in targets:\n",
    "    \n",
    "    for variable in variables:\n",
    "        final = pd.DataFrame()\n",
    "        for file in glob.glob(\"*testing_\"+target+\"_\"+variable+\"_*\"):\n",
    "            seed = re.search(\"\\d(?=(_training\\.csv))\", file).group(0)  \n",
    "            # no parameter value value = re.search(\"\\d*(?=(_\\d*_training\\.csv))\", file) \n",
    "            \n",
    "\n",
    "\n",
    "\n",
    "            print(file)"
   ]
  }
 ],
 "metadata": {
  "kernelspec": {
   "display_name": "Python 3",
   "language": "python",
   "name": "python3"
  },
  "language_info": {
   "codemirror_mode": {
    "name": "ipython",
    "version": 3
   },
   "file_extension": ".py",
   "mimetype": "text/x-python",
   "name": "python",
   "nbconvert_exporter": "python",
   "pygments_lexer": "ipython3",
   "version": "3.6.8"
  }
 },
 "nbformat": 4,
 "nbformat_minor": 2
}
