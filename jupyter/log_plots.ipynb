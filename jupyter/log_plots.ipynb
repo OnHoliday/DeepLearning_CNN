{
 "cells": [
  {
   "cell_type": "code",
   "execution_count": 6,
   "metadata": {},
   "outputs": [
    {
     "name": "stdout",
     "output_type": "stream",
     "text": [
      "/Users/fruechtnicht/NOVA/M.Sc_Data_Science_and_Advanced_Analytics/Semester2/Deep_Learning/Project/project_dir\n",
      "None\n"
     ]
    }
   ],
   "source": [
    "import os\n",
    "\n",
    "import getpass\n",
    "from pathlib import Path, PureWindowsPath # please check this medium article!! https://medium.com/@ageitgey/python-3-quick-tip-the-easy-way-to-deal-with-file-paths-on-windows-mac-and-linux-11a072b58d5f\n",
    "import pandas as pd\n",
    "\n",
    "\n",
    "if getpass.getuser() == 'Konrad':\n",
    "    project_dir = Path(PureWindowsPath('D:\\\\DeepLearningProject'))\n",
    "elif getpass.getuser() == 'fruechtnicht':\n",
    "    project_dir = Path('/Users/fruechtnicht/NOVA/M.Sc_Data_Science_and_Advanced_Analytics/Semester2/Deep_Learning/Project/project_dir')\n",
    "else:\n",
    "    raise ValueError('Check you own user name and add proper elif statement !!!')\n",
    "# if you have a windows computer please specify your project path as Konrad, if not as fruechtnicht\n",
    "print(project_dir)\n",
    "print(os.chdir(project_dir/ Path('log')))"
   ]
  },
  {
   "cell_type": "code",
   "execution_count": 3,
   "metadata": {},
   "outputs": [
    {
     "name": "stdout",
     "output_type": "stream",
     "text": [
      "current directory is : /Users/fruechtnicht/NOVA/M.Sc_Data_Science_and_Advanced_Analytics/Semester2/Deep_Learning/Project/project_dir/log\n"
     ]
    }
   ],
   "source": [
    "dirpath = os.getcwd()\n",
    "print(\"current directory is : \" + dirpath)"
   ]
  },
  {
   "cell_type": "code",
   "execution_count": 82,
   "metadata": {},
   "outputs": [],
   "source": []
  },
  {
   "cell_type": "code",
   "execution_count": 4,
   "metadata": {},
   "outputs": [],
   "source": [
    "targets = [\n",
    "            'ethnic'\n",
    "            , \n",
    "            'age'\n",
    "            ,\n",
    "            'gender'\n",
    "            ]"
   ]
  },
  {
   "cell_type": "code",
   "execution_count": 167,
   "metadata": {},
   "outputs": [],
   "source": [
    "import pandas as pd \n",
    "import glob\n",
    "import re\n",
    "import seaborn as sns\n",
    "import matplotlib.pyplot as plt\n",
    "import matplotlib.patches as mpatches\n",
    "\n",
    "sns.set(rc={'figure.figsize':(24,16)})\n",
    "sns.set_style(\"white\")\n",
    "sns.set_palette(\"Reds\")\n",
    "\n",
    "variables = ['nr_of_channel', 'kernel_size', 'stride', 'hidden_neurons']\n",
    "\n",
    "for target in targets:\n",
    "    \n",
    "    for variable in variables:\n",
    "        final = pd.DataFrame()\n",
    "        for file in glob.glob(\"*testing_\"+target+\"_\"+variable+\"_*\"):\n",
    "            seed = re.search(\"\\d(?=(_training\\.csv))\", file).group(0)  \n",
    "            value = re.search(\"\\d*(?=(_\\d*_training\\.csv))\", file).group(0)  \n",
    "            df = pd.read_csv(file)\n",
    "            df[variable]= int(value)\n",
    "            df['seed']= int(seed)\n",
    "            final = pd.concat([final,df], axis=0)\n",
    "\n",
    "        if target == 'age':\n",
    "            metric = 'val_mean_absolute_error'\n",
    "        else: \n",
    "            metric = 'val_acc'\n",
    "\n",
    "\n",
    "        n_colors = len(final[variable].unique())\n",
    "\n",
    "        colors = ['#76b39d','#9c2c2c','#265069','#f59154']\n",
    "        palette = colors[:n_colors]\n",
    "\n",
    "        if metric == 'val_mean_absolute_error':\n",
    "\n",
    "            final[metric] *= -1\n",
    "\n",
    "\n",
    "        ax = sns.lineplot(x=\"epoch\", y=metric, data=final, hue=variable, linewidth=5.0,legend=\"full\", palette=palette)\n",
    "        ax.set_title('Performance with different '+variable+ \" for \"+target, fontsize=40)\n",
    "        ax.set_xlabel(\"Epoch\",fontsize=40)\n",
    "        ax.set_ylabel(metric,fontsize=40)\n",
    "        ax.tick_params(labelsize=45)\n",
    "        leg = ax.legend(frameon=False, loc='best',ncol=1, fontsize=40,markerscale=5)\n",
    "\n",
    "\n",
    "        for line in leg.get_lines():\n",
    "            line.set_linewidth(20.0)\n",
    "        fig = ax.get_figure()\n",
    "        plt.savefig(variable+'_'+target+'.png')\n",
    "        plt.close()\n",
    "\n"
   ]
  },
  {
   "cell_type": "code",
   "execution_count": null,
   "metadata": {},
   "outputs": [],
   "source": [
    "import re\n",
    "import pandas as pd \n",
    "import glob\n",
    "import re\n",
    "import seaborn as sns\n",
    "import matplotlib.pyplot as plt\n",
    "import matplotlib.patches as mpatches\n",
    "import seaborn as sns\n",
    "import matplotlib.pyplot as plt\n",
    "sns.set(rc={'figure.figsize':(24,16)})\n",
    "sns.set_style(\"white\")\n",
    "sns.set_palette(\"Reds\")\n",
    "\n",
    "variables = ['2ConvPool', '4ConvPool', 'ConvConvPool']\n",
    "\n",
    "for target in targets:\n",
    "    final = pd.DataFrame()\n",
    "    \n",
    "    for variable in variables:\n",
    "        inter = pd.DataFrame()\n",
    "        for file in glob.glob(\"*testing_\"+target+\"_\"+variable+\"_*\"):\n",
    "            seed = re.search(\"\\d(?=(_training\\.csv))\", file).group(0)  \n",
    "            # no parameter value value = re.search(\"\\d*(?=(_\\d*_training\\.csv))\", file) \n",
    "            variable = re.search(\"(?<=\"+target+\"_).*(?=(_\\d*_training\\.csv))\", file).group(0)\n",
    "            df = pd.read_csv(file)\n",
    "            df['seed']= int(seed)\n",
    "            df['Convolution']= str(variable)\n",
    "            \n",
    "            inter = pd.concat([inter,df], axis=0)\n",
    "        final = pd.concat([final,inter], axis=0)\n",
    "    print(final)\n",
    "\n",
    "    if target == 'age':\n",
    "        metric = 'val_mean_absolute_error'\n",
    "    else: \n",
    "        metric = 'val_acc'\n",
    "\n",
    "\n",
    "    colors = ['#76b39d','#9c2c2c','#265069','#f59154']\n",
    "    palette = colors[:3]\n",
    "    \n",
    "    if metric == 'val_mean_absolute_error':\n",
    "        \n",
    "        final[metric] *= -1\n",
    "        \n",
    "    ax = sns.lineplot(x=\"epoch\", y=metric, data=final, hue='Convolution', linewidth=5.0,legend=\"full\", palette=palette)\n",
    "    ax.set_title('Performance with different architectures for '+target, fontsize=40)\n",
    "    ax.set_xlabel(\"Epoch\",fontsize=40)\n",
    "    ax.set_ylabel(metric,fontsize=40)\n",
    "    ax.tick_params(labelsize=45)\n",
    "    leg = ax.legend(frameon=False, loc='best',ncol=1, fontsize=40,markerscale=5)\n",
    "\n",
    "\n",
    "    for line in leg.get_lines():\n",
    "            line.set_linewidth(20.0)\n",
    "    \n",
    "    fig = ax.get_figure()\n",
    "    plt.savefig('Architecture'+'_'+target+'.png')\n",
    "    plt.close()"
   ]
  }
 ],
 "metadata": {
  "kernelspec": {
   "display_name": "Python 3",
   "language": "python",
   "name": "python3"
  },
  "language_info": {
   "codemirror_mode": {
    "name": "ipython",
    "version": 3
   },
   "file_extension": ".py",
   "mimetype": "text/x-python",
   "name": "python",
   "nbconvert_exporter": "python",
   "pygments_lexer": "ipython3",
   "version": "3.6.8"
  }
 },
 "nbformat": 4,
 "nbformat_minor": 2
}
