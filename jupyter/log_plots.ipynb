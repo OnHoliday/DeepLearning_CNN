{
 "cells": [
  {
   "cell_type": "code",
   "execution_count": null,
   "metadata": {},
   "outputs": [],
   "source": [
    "import os\n",
    "\n",
    "import getpass\n",
    "from pathlib import Path, PureWindowsPath # please check this medium article!! https://medium.com/@ageitgey/python-3-quick-tip-the-easy-way-to-deal-with-file-paths-on-windows-mac-and-linux-11a072b58d5f\n",
    "import pandas as pd\n",
    "\n",
    "\n",
    "if getpass.getuser() == 'Konrad':\n",
    "    project_dir = Path(PureWindowsPath('D:\\\\DeepLearningProject'))\n",
    "elif getpass.getuser() == 'fruechtnicht':\n",
    "    project_dir = Path('/Users/fruechtnicht/NOVA/M.Sc_Data_Science_and_Advanced_Analytics/Semester2/Deep_Learning/Project/project_dir')\n",
    "elif getpass.getuser() == 'dominika.leszko':\n",
    "    project_dir = Path(r'C:\\Users\\dominika.leszko\\Desktop\\NOVAIMS\\SEMESTER2\\Deep Learinng\\PROJECT\\git_repo')\n",
    "else:\n",
    "    raise ValueError('Check you own user name and add proper elif statement !!!')\n",
    "# if you have a windows computer please specify your project path as Konrad, if not as fruechtnicht\n",
    "print(project_dir)\n",
    "print(os.chdir(project_dir/ Path('log')))"
   ]
  },
  {
   "cell_type": "code",
   "execution_count": null,
   "metadata": {},
   "outputs": [],
   "source": [
    "dirpath = os.getcwd()\n",
    "print(\"current directory is : \" + dirpath)"
   ]
  },
  {
   "cell_type": "code",
   "execution_count": null,
   "metadata": {},
   "outputs": [],
   "source": [
    "targets = [\n",
    "            'ethnic'\n",
    "            , \n",
    "            'age'\n",
    "            ,\n",
    "            'gender'\n",
    "            ]"
   ]
  },
  {
   "cell_type": "code",
   "execution_count": null,
   "metadata": {},
   "outputs": [],
   "source": [
    "import pandas as pd \n",
    "import glob\n",
    "import re\n",
    "import seaborn as sns\n",
    "import matplotlib.pyplot as plt\n",
    "import matplotlib.patches as mpatches\n",
    "\n",
    "sns.set(rc={'figure.figsize':(24,16)})\n",
    "sns.set_style(\"white\")\n",
    "sns.set_palette(\"Reds\")\n",
    "\n",
    "variables = ['nr_of_channel', 'kernel_size', 'stride', 'hidden_neurons']\n",
    "\n",
    "for target in targets:\n",
    "    \n",
    "    for variable in variables:\n",
    "        final = pd.DataFrame()\n",
    "        for file in glob.glob(\"*testing_\"+target+\"_\"+variable+\"_*\"):\n",
    "            seed = re.search(\"\\d(?=(_training\\.csv))\", file).group(0)  \n",
    "            value = re.search(\"\\d*(?=(_\\d*_training\\.csv))\", file).group(0)  \n",
    "            df = pd.read_csv(file)\n",
    "            df[variable]= int(value)\n",
    "            df['seed']= int(seed)\n",
    "            final = pd.concat([final,df], axis=0)\n",
    "\n",
    "        if target == 'age':\n",
    "            metric = 'val_mean_absolute_error'\n",
    "        else: \n",
    "            metric = 'val_acc'\n",
    "\n",
    "\n",
    "        n_colors = len(final[variable].unique())\n",
    "\n",
    "        colors = ['#76b39d','#9c2c2c','#265069','#f59154']\n",
    "        palette = colors[:n_colors]\n",
    "\n",
    "        if metric == 'val_mean_absolute_error':\n",
    "\n",
    "            final[metric] *= -1\n",
    "\n",
    "\n",
    "        ax = sns.lineplot(x=\"epoch\", y=metric, data=final, hue=variable, linewidth=5.0,legend=\"full\", palette=palette)\n",
    "        ax.set_title('Performance with different '+variable+ \" for \"+target, fontsize=40)\n",
    "        ax.set_xlabel(\"Epoch\",fontsize=40)\n",
    "        ax.set_ylabel(metric,fontsize=40)\n",
    "        ax.tick_params(labelsize=45)\n",
    "        leg = ax.legend(frameon=False, loc='best',ncol=1, fontsize=40,markerscale=5)\n",
    "\n",
    "\n",
    "        for line in leg.get_lines():\n",
    "            line.set_linewidth(20.0)\n",
    "        fig = ax.get_figure()\n",
    "        plt.savefig(variable+'_'+target+'.png')\n",
    "        plt.close()\n",
    "\n"
   ]
  },
  {
   "cell_type": "code",
   "execution_count": null,
   "metadata": {},
   "outputs": [],
   "source": [
    "import re\n",
    "import pandas as pd \n",
    "import glob\n",
    "import re\n",
    "import seaborn as sns\n",
    "import matplotlib.pyplot as plt\n",
    "import matplotlib.patches as mpatches\n",
    "import seaborn as sns\n",
    "import matplotlib.pyplot as plt\n",
    "sns.set(rc={'figure.figsize':(24,16)})\n",
    "sns.set_style(\"white\")\n",
    "sns.set_palette(\"Reds\")\n",
    "\n",
    "variables = ['2ConvPool', '4ConvPool', 'ConvConvPool']\n",
    "\n",
    "for target in targets:\n",
    "    final = pd.DataFrame()\n",
    "    \n",
    "    for variable in variables:\n",
    "        inter = pd.DataFrame()\n",
    "        for file in glob.glob(\"*testing_\"+target+\"_\"+variable+\"_*\"):\n",
    "            seed = re.search(\"\\d(?=(_training\\.csv))\", file).group(0)  \n",
    "            # no parameter value value = re.search(\"\\d*(?=(_\\d*_training\\.csv))\", file) \n",
    "            variable = re.search(\"(?<=\"+target+\"_).*(?=(_\\d*_training\\.csv))\", file).group(0)\n",
    "            df = pd.read_csv(file)\n",
    "            df['seed']= int(seed)\n",
    "            df['Convolution']= str(variable)\n",
    "            \n",
    "            inter = pd.concat([inter,df], axis=0)\n",
    "        final = pd.concat([final,inter], axis=0)\n",
    "    print(final)\n",
    "\n",
    "    if target == 'age':\n",
    "        metric = 'val_mean_absolute_error'\n",
    "    else: \n",
    "        metric = 'val_acc'\n",
    "\n",
    "\n",
    "    colors = ['#76b39d','#9c2c2c','#265069','#f59154']\n",
    "    palette = colors[:3]\n",
    "    \n",
    "    if metric == 'val_mean_absolute_error':\n",
    "        \n",
    "        final[metric] *= -1\n",
    "        \n",
    "    ax = sns.lineplot(x=\"epoch\", y=metric, data=final, hue='Convolution', linewidth=5.0,legend=\"full\", palette=palette)\n",
    "    ax.set_title('Performance with different architectures for '+target, fontsize=40)\n",
    "    ax.set_xlabel(\"Epoch\",fontsize=40)\n",
    "    ax.set_ylabel(metric,fontsize=40)\n",
    "    ax.tick_params(labelsize=45)\n",
    "    leg = ax.legend(frameon=False, loc='best',ncol=1, fontsize=40,markerscale=5)\n",
    "\n",
    "\n",
    "    for line in leg.get_lines():\n",
    "            line.set_linewidth(20.0)\n",
    "    \n",
    "    fig = ax.get_figure()\n",
    "    plt.savefig('Architecture'+'_'+target+'.png')\n",
    "    plt.close()"
   ]
  },
  {
   "cell_type": "markdown",
   "metadata": {},
   "source": [
    "# Comparing models## RANK"
   ]
  },
  {
   "cell_type": "code",
   "execution_count": null,
   "metadata": {},
   "outputs": [],
   "source": [
    "import seaborn as sns\n",
    "import matplotlib.pyplot as plt"
   ]
  },
  {
   "cell_type": "code",
   "execution_count": null,
   "metadata": {},
   "outputs": [],
   "source": [
    "mod1=pd.read_excel('pred_mod1.xlsx')\n",
    "mod2=pd.read_excel('pred_mod2.xlsx')\n",
    "mod3=pd.read_excel('pred_mod3.xlsx')\n",
    "mod4=pd.read_excel('pred_mod4.xlsx')\n",
    "\n",
    "\n",
    "n_preds=mod1.shape[0]\n",
    "\n",
    "for mod in [mod1, mod2, mod3, mod4]:\n",
    "    mod.columns=['gen_true', 'gen_pred', 'ethnic_true', 'ethnic_pred', 'age_true', 'age_pred']"
   ]
  },
  {
   "cell_type": "code",
   "execution_count": null,
   "metadata": {},
   "outputs": [],
   "source": [
    "for mod in [mod1, mod2, mod3, mod4]:\n",
    "    mod['gen_score']=np.where(mod['gen_true']==mod['gen_pred'], 1, 0)\n",
    "    mod['ethnic_score']=np.where(mod['ethnic_true']==mod['ethnic_pred'], 1, 0)\n",
    "    mod['age_score']=np.abs(mod['age_true']-mod['age_pred'])\n",
    "    "
   ]
  },
  {
   "cell_type": "code",
   "execution_count": null,
   "metadata": {},
   "outputs": [],
   "source": [
    "for mod in [mod1, mod2, mod3, mod4]:\n",
    "    mod.drop(columns=['gen_true', 'gen_pred', 'ethnic_true', 'ethnic_pred', 'age_true', 'age_pred'], axis=1, inplace=True)"
   ]
  },
  {
   "cell_type": "code",
   "execution_count": null,
   "metadata": {},
   "outputs": [],
   "source": [
    "final_table=pd.DataFrame(columns=['gen_rank', 'ethnic_rank', 'age_rank'])\n",
    "final_table"
   ]
  },
  {
   "cell_type": "code",
   "execution_count": null,
   "metadata": {},
   "outputs": [],
   "source": [
    "for mod in [mod1, mod2, mod3, mod4]:\n",
    "    final_table=final_table.append({'gen_rank':np.sum(mod['gen_score']), 'ethnic_rank':np.sum(mod['ethnic_score']),\n",
    "                        'age_rank':np.average(mod['age_score'])}, ignore_index=True)\n",
    "\n",
    "final_table_bkp=final_table.copy()"
   ]
  },
  {
   "cell_type": "code",
   "execution_count": null,
   "metadata": {},
   "outputs": [],
   "source": [
    "final_table['gen_rank']=final_table['gen_rank'].rank()\n",
    "final_table['ethnic_rank']=final_table['ethnic_rank'].rank()\n",
    "final_table['age_rank']=final_table['age_rank'].rank()\n",
    "final_table=np.floor(final_table)\n",
    "final_table.index=['Model_1','Model_2','Model_3','Model_4']\n",
    "final_table\n",
    "\n",
    "#ATTENTON! 1 means worst 4 means best! for plotting purposes\n",
    "\n",
    "#COLORMAP:\n",
    "#['#FF9473', '#FFE6AC', '#97C977', '#639B94', '#3E757D']"
   ]
  },
  {
   "cell_type": "code",
   "execution_count": null,
   "metadata": {},
   "outputs": [],
   "source": [
    "final_table=pd.read_excel(r'pred_results.xlsx', sheet_name='rank')\n",
    "final_table.index=final_table['Model']\n",
    "final_table"
   ]
  },
  {
   "cell_type": "code",
   "execution_count": null,
   "metadata": {},
   "outputs": [],
   "source": [
    "sns.set_style('whitegrid')\n",
    "final_table.plot(kind='bar', stacked=True, color=['#5A8D87','#E98769','#89B76C'])\n",
    "plt.title('Models performance on various targets', fontsize=40)\n",
    "plt.ylabel('Ranking', fontsize=35)\n",
    "plt.xlabel('')\n",
    "plt.xticks(fontsize=30, rotation='horizontal')\n",
    "plt.legend(loc=2, prop={'size': 20})\n",
    "plt.savefig('rank_compare.png')"
   ]
  },
  {
   "cell_type": "markdown",
   "metadata": {},
   "source": [
    "# Radar Chart"
   ]
  },
  {
   "cell_type": "code",
   "execution_count": null,
   "metadata": {},
   "outputs": [],
   "source": [
    "final_table_bkp=pd.read_excel(r'pred_results.xlsx', sheet_name='radar')\n",
    "final_table_bkp.index=final_table['Model']\n",
    "final_table_bkp.drop(columns=['Model'], axis=1, inplace=True)\n",
    "final_table_bkp"
   ]
  },
  {
   "cell_type": "code",
   "execution_count": null,
   "metadata": {},
   "outputs": [],
   "source": [
    "data=final_table_bkp.copy()\n",
    "Attributes=list(data)\n",
    "AttNo=len(Attributes)\n",
    "values = data.iloc[2].tolist()#Transfer_learn\n",
    "values += values [:1]\n",
    "values2 = data.iloc[1].tolist()#Separate_conv\n",
    "values2 += values2 [:1]\n",
    "values3 = data.iloc[0].tolist()#Common_conv\n",
    "values3 += values3 [:1]\n",
    "#values4=data.iloc[0].tolist()\n",
    "#values4+=values4[:1]\n",
    "angles = [n / float(AttNo) * 2 * pi for n in range(AttNo)]\n",
    "angles += angles [:1]"
   ]
  },
  {
   "cell_type": "code",
   "execution_count": null,
   "metadata": {},
   "outputs": [],
   "source": [
    "def createRadar(player, data, color):\n",
    "    Attributes = [\"Age\",\"Gender\",\"Race\"]\n",
    "    \n",
    "    data += data [:1]\n",
    "    \n",
    "    angles = [n / 3 * 2 * pi for n in range(3)]\n",
    "    angles += angles [:1]\n",
    "    \n",
    "    ax = plt.subplot(111, polar=True)\n",
    "\n",
    "    plt.xticks(angles[:-1],Attributes, fontsize=30, fontweight='bold')\n",
    "    ax.plot(angles,data)\n",
    "    ax.fill(angles, data, color, alpha=0.3)\n",
    "\n",
    "    ax.set_title(player, fontsize=40)\n",
    "    ax.set_ylim(top=0.8)\n",
    "    plt.show()"
   ]
  },
  {
   "cell_type": "code",
   "execution_count": null,
   "metadata": {},
   "outputs": [],
   "source": [
    "def createRadar4(player, data, player2, data2, player3, data3):\n",
    "    Attributes = [\"Age\",\"Gender\",\"Race\"]\n",
    "    font = {'family' : 'normal',\n",
    "        'weight' : 'bold',\n",
    "        'size'   : 100}\n",
    "\n",
    "    \n",
    "    \n",
    "    data += data[:1]\n",
    "    data2 += data2[:1]\n",
    "    data3 += data3[:1]\n",
    "    \n",
    "    angles = [n / 3 * 2 * pi for n in range(3)]\n",
    "    \n",
    "    angles += angles [:1]\n",
    "    \n",
    "    angles2 = [n / 3 * 2 * pi for n in range(3)]\n",
    "    angles2 += angles2 [:1]\n",
    "    \n",
    "    angles3 = [n / 3 * 2 * pi for n in range(3)]\n",
    "    angles3 += angles3 [:1]\n",
    "\n",
    "    \n",
    "    ax = plt.subplot(111, polar=True)\n",
    "\n",
    "    #Create the chart as before, but with both Ronaldo's and Messi's angles/values\n",
    "    ax = plt.subplot(111, polar=True)\n",
    "    \n",
    "    plt.xticks(angles[:-1],Attributes, fontsize=30, fontweight='bold')\n",
    "\n",
    "    ax.plot(angles,values, color='#9c2c2c')\n",
    "    ax.fill(angles, values, '#9c2c2c', alpha=0.3)\n",
    "\n",
    "    ax.plot(angles2,values2, color='#76b39d')\n",
    "    ax.fill(angles2, values2, '#76b39d', alpha=0.3)\n",
    "    \n",
    "    ax.plot(angles3,values3, color='#265069')\n",
    "    ax.fill(angles3, values3, '#265069', alpha=0.3)\n",
    "    plt.rc('font', **font)\n",
    "    \n",
    "    \n",
    "    #Rather than use a title, individual text points are added\n",
    "    \n",
    "    plt.figtext(0.2,0.9,player,color=\"#9c2c2c\", fontweight='bold', fontsize=25)\n",
    "    plt.figtext(0.2,0.8,player2,color=\"#76b39d\", fontweight='bold', fontsize=25)\n",
    "    plt.figtext(0.2,0.7,player3,color=\"#265069\", fontweight='bold', fontsize=25)\n",
    "    plt.savefig('Radar_plot.png')\n",
    "    plt.show()"
   ]
  },
  {
   "cell_type": "code",
   "execution_count": null,
   "metadata": {},
   "outputs": [],
   "source": [
    "createRadar4(\"Common_conv\", [0.42, 0.68, 0.45], 'Separate_conv', [0.44, 0.8, 0.55],'Transfer_learn', [0.13, 0.53, 0.41])"
   ]
  },
  {
   "cell_type": "code",
   "execution_count": null,
   "metadata": {},
   "outputs": [],
   "source": [
    "createRadar(\"Common_conv\", [0.42, 0.68, 0.45], color='#265069')"
   ]
  },
  {
   "cell_type": "code",
   "execution_count": null,
   "metadata": {},
   "outputs": [],
   "source": [
    "createRadar(\"Separate_conv\", [0.44, 0.8, 0.55], color='#76b39d')"
   ]
  },
  {
   "cell_type": "code",
   "execution_count": null,
   "metadata": {},
   "outputs": [],
   "source": [
    "createRadar(\"Transfer_learn\", [0.13, 0.53, 0.41], color='#9c2c2c')"
   ]
  }
 ],
 "metadata": {
  "kernelspec": {
   "display_name": "Python 3",
   "language": "python",
   "name": "python3"
  },
  "language_info": {
   "codemirror_mode": {
    "name": "ipython",
    "version": 3
   },
   "file_extension": ".py",
   "mimetype": "text/x-python",
   "name": "python",
   "nbconvert_exporter": "python",
   "pygments_lexer": "ipython3",
   "version": "3.6.5"
  }
 },
 "nbformat": 4,
 "nbformat_minor": 2
}
