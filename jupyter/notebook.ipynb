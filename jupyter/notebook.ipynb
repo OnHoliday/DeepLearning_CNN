{
 "cells": [
  {
   "cell_type": "markdown",
   "metadata": {
    "_uuid": "7c6e265aa320f20fb5c55b869ac9f4b576f57c55"
   },
   "source": [
    "UTKFace dataset is a large-scale face dataset with long age span (range from 0 to 116 years old). The dataset consists of over 20,000 face images with annotations of age, gender, and ethnicity. The images cover large variation in pose, facial expression, illumination, occlusion, resolution, etc. This dataset could be used on a variety of tasks, e.g., face detection, age estimation, age progression/regression, landmark localization, etc.\n",
    "\n",
    "The labels of each face image is embedded in the file name, formated like [age]_[gender]_[race]_[date&time].jpg\n",
    "\n",
    "[age] is an integer from 0 to 116, indicating the age\n",
    "[gender] is either 0 (male) or 1 (female)\n",
    "[race] is an integer from 0 to 4, denoting White, Black, Asian, Indian, and Others (like Hispanic, Latino, Middle Eastern).\n",
    "[date&time] is in the format of yyyymmddHHMMSSFFF, showing the date and time an image was collected to UTKFace"
   ]
  },
  {
   "cell_type": "code",
   "execution_count": 8,
   "metadata": {
    "_cell_guid": "b1076dfc-b9ad-4769-8c92-a6c4dae69d19",
    "_uuid": "8f2839f25d086af736a60e9eeb907d3b93b6e0e5"
   },
   "outputs": [
    {
     "name": "stderr",
     "output_type": "stream",
     "text": [
      "/Users/fruechtnicht/NOVA/M.Sc_Data_Science_and_Advanced_Analytics/Semester2/Deep_Learning/Project/project_dir/venv/lib/python3.6/site-packages/matplotlib/__init__.py:886: MatplotlibDeprecationWarning: \n",
      "examples.directory is deprecated; in the future, examples will be found relative to the 'datapath' directory.\n",
      "  \"found relative to the 'datapath' directory.\".format(key))\n"
     ]
    }
   ],
   "source": [
    "import numpy as np # linear algebra\n",
    "import pandas as pd # data processing, CSV file I/O (e.g. pd.read_csv)\n",
    "import os\n",
    "import glob\n",
    "import pandas as pd\n",
    "import matplotlib.pyplot as plt\n",
    "import seaborn as sns"
   ]
  },
  {
   "cell_type": "code",
   "execution_count": null,
   "metadata": {
    "_cell_guid": "79c7e3d0-c299-4dcb-8224-4455121ee9b0",
    "_uuid": "d629ff2d2480ee46fbb7e2d37f6b5fab8052498a",
    "collapsed": true
   },
   "outputs": [],
   "source": [
    "%%bash\n",
    "ls ../input/utkface_aligned_cropped\n",
    "# it seems crop_part1 conists of subset of data contained in UTKFace so we won't be using it."
   ]
  },
  {
   "cell_type": "code",
   "execution_count": 26,
   "metadata": {},
   "outputs": [],
   "source": [
    "import os\n",
    "\n",
    "import getpass\n",
    "from pathlib import Path, PureWindowsPath # please check this medium article!! https://medium.com/@ageitgey/python-3-quick-tip-the-easy-way-to-deal-with-file-paths-on-windows-mac-and-linux-11a072b58d5f\n",
    "\n",
    "\n",
    "\n",
    "if getpass.getuser() == 'Konrad':\n",
    "    project_dir = Path(PureWindowsPath('D:\\\\DeepLearningProject'))\n",
    "elif getpass.getuser() == 'fruechtnicht':\n",
    "    project_dir = Path('/Users/fruechtnicht/NOVA/M.Sc_Data_Science_and_Advanced_Analytics/Semester2/Deep_Learning/Project/project_dir')\n",
    "else:\n",
    "    raise ValueError('Check you own user name and add proper elif statement !!!')\n",
    "# if you have a windows computer please specify your project path as Konrad, if not as fruechtnicht\n",
    "os.chdir(project_dir)"
   ]
  },
  {
   "cell_type": "markdown",
   "metadata": {
    "_uuid": "a111eb9fae738b42a92c465e3bf63d385db6a67b"
   },
   "source": [
    "**Constants**"
   ]
  },
  {
   "cell_type": "code",
   "execution_count": 27,
   "metadata": {
    "_uuid": "867fd6bebbfda496ca070db1695fc38c6fa169d2"
   },
   "outputs": [
    {
     "data": {
      "text/plain": [
       "({0: 'male', 1: 'female'},\n",
       " {'male': 0, 'female': 1},\n",
       " {0: 'white', 1: 'black', 2: 'asian', 3: 'indian', 4: 'others'},\n",
       " {'white': 0, 'black': 1, 'asian': 2, 'indian': 3, 'others': 4})"
      ]
     },
     "execution_count": 27,
     "metadata": {},
     "output_type": "execute_result"
    }
   ],
   "source": [
    "DATA_DIR = \"UTKFace\"\n",
    "TRAIN_TEST_SPLIT = 0.7\n",
    "IM_WIDTH = IM_HEIGHT = 198\n",
    "ID_GENDER_MAP = {0: 'male', 1: 'female'}\n",
    "GENDER_ID_MAP = dict((g, i) for i, g in ID_GENDER_MAP.items())\n",
    "ID_RACE_MAP = {0: 'white', 1: 'black', 2: 'asian', 3: 'indian', 4: 'others'}\n",
    "RACE_ID_MAP = dict((r, i) for i, r in ID_RACE_MAP.items())\n",
    "\n",
    "ID_GENDER_MAP, GENDER_ID_MAP, ID_RACE_MAP, RACE_ID_MAP"
   ]
  },
  {
   "cell_type": "code",
   "execution_count": 28,
   "metadata": {
    "_uuid": "f82c1685a37d4e77022ff870cde57ea82f52c1a0"
   },
   "outputs": [],
   "source": [
    "def parse_filepath(filepath):\n",
    "    try:\n",
    "        path, filename = os.path.split(filepath)\n",
    "        filename, ext = os.path.splitext(filename)\n",
    "        age, gender, race, _ = filename.split(\"_\")\n",
    "        return int(age), ID_GENDER_MAP[int(gender)], ID_RACE_MAP[int(race)]\n",
    "    except Exception as e:\n",
    "        print(filepath)\n",
    "        return None, None, None"
   ]
  },
  {
   "cell_type": "code",
   "execution_count": 50,
   "metadata": {
    "_uuid": "350a2ac4feb3fd7ed81fa6e1d2066f0fdb1d2009"
   },
   "outputs": [],
   "source": [
    "# create a pandas data frame of images, age, gender and race\n",
    "files = glob.glob(os.path.join(DATA_DIR, \"*.jpg\"))"
   ]
  },
  {
   "cell_type": "code",
   "execution_count": 31,
   "metadata": {
    "_uuid": "59892f1296870fca397e6aaa1888e551d739901c"
   },
   "outputs": [
    {
     "name": "stdout",
     "output_type": "stream",
     "text": [
      "UTKFace/61_1_20170109142408075.jpg.chip.jpg\n"
     ]
    }
   ],
   "source": [
    "attributes = list(map(parse_filepath, files))"
   ]
  },
  {
   "cell_type": "code",
   "execution_count": 52,
   "metadata": {
    "_uuid": "527d33d9c883d6e45f1576152660ec2feb9be7cb"
   },
   "outputs": [
    {
     "data": {
      "text/html": [
       "<div>\n",
       "<style scoped>\n",
       "    .dataframe tbody tr th:only-of-type {\n",
       "        vertical-align: middle;\n",
       "    }\n",
       "\n",
       "    .dataframe tbody tr th {\n",
       "        vertical-align: top;\n",
       "    }\n",
       "\n",
       "    .dataframe thead th {\n",
       "        text-align: right;\n",
       "    }\n",
       "</style>\n",
       "<table border=\"1\" class=\"dataframe\">\n",
       "  <thead>\n",
       "    <tr style=\"text-align: right;\">\n",
       "      <th></th>\n",
       "      <th>age</th>\n",
       "      <th>gender</th>\n",
       "      <th>race</th>\n",
       "      <th>file</th>\n",
       "    </tr>\n",
       "  </thead>\n",
       "  <tbody>\n",
       "    <tr>\n",
       "      <th>0</th>\n",
       "      <td>9.0</td>\n",
       "      <td>female</td>\n",
       "      <td>asian</td>\n",
       "      <td>UTKFace/9_1_2_20161219204347420.jpg.chip.jpg</td>\n",
       "    </tr>\n",
       "    <tr>\n",
       "      <th>1</th>\n",
       "      <td>36.0</td>\n",
       "      <td>male</td>\n",
       "      <td>black</td>\n",
       "      <td>UTKFace/36_0_1_20170117163203851.jpg.chip.jpg</td>\n",
       "    </tr>\n",
       "    <tr>\n",
       "      <th>2</th>\n",
       "      <td>26.0</td>\n",
       "      <td>female</td>\n",
       "      <td>white</td>\n",
       "      <td>UTKFace/26_1_0_20170116171048641.jpg.chip.jpg</td>\n",
       "    </tr>\n",
       "    <tr>\n",
       "      <th>3</th>\n",
       "      <td>1.0</td>\n",
       "      <td>female</td>\n",
       "      <td>asian</td>\n",
       "      <td>UTKFace/1_1_2_20161219154612988.jpg.chip.jpg</td>\n",
       "    </tr>\n",
       "    <tr>\n",
       "      <th>4</th>\n",
       "      <td>52.0</td>\n",
       "      <td>male</td>\n",
       "      <td>black</td>\n",
       "      <td>UTKFace/52_0_1_20170117161018159.jpg.chip.jpg</td>\n",
       "    </tr>\n",
       "  </tbody>\n",
       "</table>\n",
       "</div>"
      ],
      "text/plain": [
       "    age  gender   race                                           file\n",
       "0   9.0  female  asian   UTKFace/9_1_2_20161219204347420.jpg.chip.jpg\n",
       "1  36.0    male  black  UTKFace/36_0_1_20170117163203851.jpg.chip.jpg\n",
       "2  26.0  female  white  UTKFace/26_1_0_20170116171048641.jpg.chip.jpg\n",
       "3   1.0  female  asian   UTKFace/1_1_2_20161219154612988.jpg.chip.jpg\n",
       "4  52.0    male  black  UTKFace/52_0_1_20170117161018159.jpg.chip.jpg"
      ]
     },
     "execution_count": 52,
     "metadata": {},
     "output_type": "execute_result"
    }
   ],
   "source": [
    "df = pd.DataFrame(attributes)\n",
    "df['file'] = files\n",
    "df.columns = ['age', 'gender', 'race', 'file']\n",
    "df = df.dropna()\n",
    "df.head()"
   ]
  },
  {
   "cell_type": "markdown",
   "metadata": {
    "_uuid": "d18e6ecec2b0c063772349e57bb0769b4041868d"
   },
   "source": [
    "# Exploratory analysis"
   ]
  },
  {
   "cell_type": "code",
   "execution_count": 53,
   "metadata": {
    "_uuid": "6302cb5074f68d4c397d2b133d2d7b4b4386a25b"
   },
   "outputs": [
    {
     "data": {
      "text/html": [
       "<div>\n",
       "<style scoped>\n",
       "    .dataframe tbody tr th:only-of-type {\n",
       "        vertical-align: middle;\n",
       "    }\n",
       "\n",
       "    .dataframe tbody tr th {\n",
       "        vertical-align: top;\n",
       "    }\n",
       "\n",
       "    .dataframe thead th {\n",
       "        text-align: right;\n",
       "    }\n",
       "</style>\n",
       "<table border=\"1\" class=\"dataframe\">\n",
       "  <thead>\n",
       "    <tr style=\"text-align: right;\">\n",
       "      <th></th>\n",
       "      <th>age</th>\n",
       "    </tr>\n",
       "  </thead>\n",
       "  <tbody>\n",
       "    <tr>\n",
       "      <th>count</th>\n",
       "      <td>18965.000000</td>\n",
       "    </tr>\n",
       "    <tr>\n",
       "      <th>mean</th>\n",
       "      <td>33.353546</td>\n",
       "    </tr>\n",
       "    <tr>\n",
       "      <th>std</th>\n",
       "      <td>19.931223</td>\n",
       "    </tr>\n",
       "    <tr>\n",
       "      <th>min</th>\n",
       "      <td>1.000000</td>\n",
       "    </tr>\n",
       "    <tr>\n",
       "      <th>25%</th>\n",
       "      <td>23.000000</td>\n",
       "    </tr>\n",
       "    <tr>\n",
       "      <th>50%</th>\n",
       "      <td>29.000000</td>\n",
       "    </tr>\n",
       "    <tr>\n",
       "      <th>75%</th>\n",
       "      <td>45.000000</td>\n",
       "    </tr>\n",
       "    <tr>\n",
       "      <th>max</th>\n",
       "      <td>116.000000</td>\n",
       "    </tr>\n",
       "  </tbody>\n",
       "</table>\n",
       "</div>"
      ],
      "text/plain": [
       "                age\n",
       "count  18965.000000\n",
       "mean      33.353546\n",
       "std       19.931223\n",
       "min        1.000000\n",
       "25%       23.000000\n",
       "50%       29.000000\n",
       "75%       45.000000\n",
       "max      116.000000"
      ]
     },
     "execution_count": 53,
     "metadata": {},
     "output_type": "execute_result"
    }
   ],
   "source": [
    "df.describe()"
   ]
  },
  {
   "cell_type": "code",
   "execution_count": 54,
   "metadata": {
    "_uuid": "80540a33e6cca052ac63c2799ddeea026a271d79"
   },
   "outputs": [
    {
     "data": {
      "image/png": "[encoded data removed]",
      "text/plain": [
       "<Figure size 1080x432 with 2 Axes>"
      ]
     },
     "metadata": {
      "needs_background": "light"
     },
     "output_type": "display_data"
    }
   ],
   "source": [
    "fig, (ax1, ax2) = plt.subplots(1, 2, figsize=(15, 6))\n",
    "_ = sns.boxplot(data=df, x='gender', y='age', ax=ax1)\n",
    "_ = sns.boxplot(data=df, x='race', y='age', ax=ax2)"
   ]
  },
  {
   "cell_type": "markdown",
   "metadata": {
    "_uuid": "e6173964c8ab34dfef88c1f697a9e7a7868d5031"
   },
   "source": [
    "From the plot we can see that most of people are within 10 and 55 years of age. Most probably, we'll discard the dataset for rest of the ages."
   ]
  },
  {
   "cell_type": "code",
   "execution_count": 55,
   "metadata": {
    "_uuid": "4447de1391041f28b60c61ecdb82e652a6ecf77d"
   },
   "outputs": [
    {
     "data": {
      "text/plain": [
       "<matplotlib.axes._subplots.AxesSubplot at 0x12cbc0d68>"
      ]
     },
     "execution_count": 55,
     "metadata": {},
     "output_type": "execute_result"
    },
    {
     "data": {
      "image/png": "[encoded data removed]",
      "text/plain": [
       "<Figure size 1080x432 with 1 Axes>"
      ]
     },
     "metadata": {
      "needs_background": "light"
     },
     "output_type": "display_data"
    }
   ],
   "source": [
    "plt.figure(figsize=(15, 6))\n",
    "sns.boxplot(data=df, x='gender', y='age', hue='race')"
   ]
  },
  {
   "cell_type": "code",
   "execution_count": 56,
   "metadata": {
    "_uuid": "4931ac80da59c52f82a0b3a4562369ec55ef5b16"
   },
   "outputs": [
    {
     "data": {
      "text/plain": [
       "<matplotlib.axes._subplots.AxesSubplot at 0x12d159240>"
      ]
     },
     "execution_count": 56,
     "metadata": {},
     "output_type": "execute_result"
    },
    {
     "data": {
      "image/png": "[encoded data removed]",
      "text/plain": [
       "<Figure size 432x288 with 1 Axes>"
      ]
     },
     "metadata": {
      "needs_background": "light"
     },
     "output_type": "display_data"
    }
   ],
   "source": [
    "df.groupby(by=['race', 'gender'])['age'].count().plot(kind='bar')"
   ]
  },
  {
   "cell_type": "markdown",
   "metadata": {
    "_uuid": "ee2c5d3e747d7fcd1ec0fb9e4766a358b0f991e6"
   },
   "source": [
    "It turns out that there are many images of *white male* and *while female*. images from *others* category are very less in number compared to rest of the categories especially *white* category.\n",
    "Let's analyze our data from *age* perspective."
   ]
  },
  {
   "cell_type": "code",
   "execution_count": 59,
   "metadata": {
    "_uuid": "6e9d71f01a878481ab3104a17372880e69eca247"
   },
   "outputs": [
    {
     "data": {
      "text/plain": [
       "<matplotlib.axes._subplots.AxesSubplot at 0x12d6fb7b8>"
      ]
     },
     "execution_count": 59,
     "metadata": {},
     "output_type": "execute_result"
    },
    {
     "data": {
      "image/png": "[encoded data removed]",
      "text/plain": [
       "<Figure size 432x288 with 1 Axes>"
      ]
     },
     "metadata": {
      "needs_background": "light"
     },
     "output_type": "display_data"
    }
   ],
   "source": [
    "df['age'].hist()"
   ]
  },
  {
   "cell_type": "code",
   "execution_count": 44,
   "metadata": {},
   "outputs": [
    {
     "ename": "AttributeError",
     "evalue": "'Series' object has no attribute 'barplot'",
     "output_type": "error",
     "traceback": [
      "\u001b[0;31m---------------------------------------------------------------------------\u001b[0m",
      "\u001b[0;31mAttributeError\u001b[0m                            Traceback (most recent call last)",
      "\u001b[0;32m<ipython-input-44-74ee627b315f>\u001b[0m in \u001b[0;36m<module>\u001b[0;34m\u001b[0m\n\u001b[0;32m----> 1\u001b[0;31m \u001b[0mdf\u001b[0m\u001b[0;34m[\u001b[0m\u001b[0;34m'race'\u001b[0m\u001b[0;34m]\u001b[0m\u001b[0;34m.\u001b[0m\u001b[0mbarplot\u001b[0m\u001b[0;34m(\u001b[0m\u001b[0;34m)\u001b[0m\u001b[0;34m\u001b[0m\u001b[0;34m\u001b[0m\u001b[0m\n\u001b[0m",
      "\u001b[0;32m~/NOVA/M.Sc_Data_Science_and_Advanced_Analytics/Semester2/Deep_Learning/Project/project_dir/venv/lib/python3.6/site-packages/pandas/core/generic.py\u001b[0m in \u001b[0;36m__getattr__\u001b[0;34m(self, name)\u001b[0m\n\u001b[1;32m   4374\u001b[0m             \u001b[0;32mif\u001b[0m \u001b[0mself\u001b[0m\u001b[0;34m.\u001b[0m\u001b[0m_info_axis\u001b[0m\u001b[0;34m.\u001b[0m\u001b[0m_can_hold_identifiers_and_holds_name\u001b[0m\u001b[0;34m(\u001b[0m\u001b[0mname\u001b[0m\u001b[0;34m)\u001b[0m\u001b[0;34m:\u001b[0m\u001b[0;34m\u001b[0m\u001b[0;34m\u001b[0m\u001b[0m\n\u001b[1;32m   4375\u001b[0m                 \u001b[0;32mreturn\u001b[0m \u001b[0mself\u001b[0m\u001b[0;34m[\u001b[0m\u001b[0mname\u001b[0m\u001b[0;34m]\u001b[0m\u001b[0;34m\u001b[0m\u001b[0;34m\u001b[0m\u001b[0m\n\u001b[0;32m-> 4376\u001b[0;31m             \u001b[0;32mreturn\u001b[0m \u001b[0mobject\u001b[0m\u001b[0;34m.\u001b[0m\u001b[0m__getattribute__\u001b[0m\u001b[0;34m(\u001b[0m\u001b[0mself\u001b[0m\u001b[0;34m,\u001b[0m \u001b[0mname\u001b[0m\u001b[0;34m)\u001b[0m\u001b[0;34m\u001b[0m\u001b[0;34m\u001b[0m\u001b[0m\n\u001b[0m\u001b[1;32m   4377\u001b[0m \u001b[0;34m\u001b[0m\u001b[0m\n\u001b[1;32m   4378\u001b[0m     \u001b[0;32mdef\u001b[0m \u001b[0m__setattr__\u001b[0m\u001b[0;34m(\u001b[0m\u001b[0mself\u001b[0m\u001b[0;34m,\u001b[0m \u001b[0mname\u001b[0m\u001b[0;34m,\u001b[0m \u001b[0mvalue\u001b[0m\u001b[0;34m)\u001b[0m\u001b[0;34m:\u001b[0m\u001b[0;34m\u001b[0m\u001b[0;34m\u001b[0m\u001b[0m\n",
      "\u001b[0;31mAttributeError\u001b[0m: 'Series' object has no attribute 'barplot'"
     ]
    }
   ],
   "source": [
    "df['race'].barplot()"
   ]
  },
  {
   "cell_type": "code",
   "execution_count": 38,
   "metadata": {
    "_uuid": "4f31b96c2c3e1e4f4ba3a61d3dad49b103a4cd43"
   },
   "outputs": [
    {
     "data": {
      "text/plain": [
       "count    18965.000000\n",
       "mean        33.353546\n",
       "std         19.931223\n",
       "min          1.000000\n",
       "25%         23.000000\n",
       "50%         29.000000\n",
       "75%         45.000000\n",
       "max        116.000000\n",
       "Name: age, dtype: float64"
      ]
     },
     "execution_count": 38,
     "metadata": {},
     "output_type": "execute_result"
    }
   ],
   "source": [
    "df['age'].describe()"
   ]
  },
  {
   "cell_type": "code",
   "execution_count": 58,
   "metadata": {
    "_uuid": "782a055ef996f186e9c59a25a71e88760d0aed62"
   },
   "outputs": [],
   "source": [
    "df = df[df['age'] < 60]"
   ]
  },
  {
   "cell_type": "code",
   "execution_count": 48,
   "metadata": {},
   "outputs": [
    {
     "data": {
      "text/plain": [
       "white     5666\n",
       "black     3192\n",
       "indian    2570\n",
       "asian     1792\n",
       "others    1013\n",
       "Name: race, dtype: int64"
      ]
     },
     "execution_count": 48,
     "metadata": {},
     "output_type": "execute_result"
    }
   ],
   "source": [
    "df['race'].value_counts()"
   ]
  },
  {
   "cell_type": "markdown",
   "metadata": {
    "_uuid": "ac2f3eca61465d5f94e350af87dca999418953bb"
   },
   "source": [
    "# Data prep"
   ]
  },
  {
   "cell_type": "code",
   "execution_count": null,
   "metadata": {
    "_uuid": "25b28ba3c0a314feac7346129d50c1a7dfda6bcf",
    "collapsed": true
   },
   "outputs": [],
   "source": [
    "p = np.random.permutation(len(df))\n",
    "train_up_to = int(len(df) * TRAIN_TEST_SPLIT)\n",
    "train_idx = p[:train_up_to]\n",
    "test_idx = p[train_up_to:]\n",
    "\n",
    "# split train_idx further into training and validation set\n",
    "train_up_to = int(train_up_to * 0.7)\n",
    "train_idx, valid_idx = train_idx[:train_up_to], train_idx[train_up_to:]\n",
    "\n",
    "df['gender_id'] = df['gender'].map(lambda gender: GENDER_ID_MAP[gender])\n",
    "df['race_id'] = df['race'].map(lambda race: RACE_ID_MAP[race])\n",
    "\n",
    "max_age = df['age'].max()\n",
    "len(train_idx), len(valid_idx), len(test_idx), max_age"
   ]
  },
  {
   "cell_type": "code",
   "execution_count": null,
   "metadata": {
    "_uuid": "653d7b0737ffcaf69140e6de74e111e165ae808a",
    "collapsed": true
   },
   "outputs": [],
   "source": [
    "from keras.utils import to_categorical\n",
    "from PIL import Image\n",
    "\n",
    "def get_data_generator(df, indices, for_training, batch_size=16):\n",
    "    images, ages, races, genders = [], [], [], []\n",
    "    while True:\n",
    "        for i in indices:\n",
    "            r = df.iloc[i]\n",
    "            file, age, race, gender = r['file'], r['age'], r['race_id'], r['gender_id']\n",
    "            im = Image.open(file)\n",
    "            im = im.resize((IM_WIDTH, IM_HEIGHT))\n",
    "            im = np.array(im) / 255.0\n",
    "            images.append(im)\n",
    "            ages.append(age / max_age)\n",
    "            races.append(to_categorical(race, len(RACE_ID_MAP)))\n",
    "            genders.append(to_categorical(gender, 2))\n",
    "            if len(images) >= batch_size:\n",
    "                yield np.array(images), [np.array(ages), np.array(races), np.array(genders)]\n",
    "                images, ages, races, genders = [], [], [], []\n",
    "        if not for_training:\n",
    "            break"
   ]
  },
  {
   "cell_type": "markdown",
   "metadata": {
    "_uuid": "0e067d94f007bf8acae0e2675f1b6f243cd7eac7"
   },
   "source": [
    "# Model training"
   ]
  },
  {
   "cell_type": "code",
   "execution_count": null,
   "metadata": {
    "_uuid": "ab00d8ecdf293d999eb0feeb1accb82d936937ff",
    "collapsed": true
   },
   "outputs": [],
   "source": [
    "from keras.layers import Input, Dense, BatchNormalization, Conv2D, MaxPool2D, GlobalMaxPool2D, Dropout\n",
    "from keras.optimizers import SGD\n",
    "from keras.models import Model\n",
    "\n",
    "def conv_block(inp, filters=32, bn=True, pool=True):\n",
    "    _ = Conv2D(filters=filters, kernel_size=3, activation='relu')(inp)\n",
    "    if bn:\n",
    "        _ = BatchNormalization()(_)\n",
    "    if pool:\n",
    "        _ = MaxPool2D()(_)\n",
    "    return _\n",
    "\n",
    "input_layer = Input(shape=(IM_HEIGHT, IM_WIDTH, 3))\n",
    "_ = conv_block(input_layer, filters=32, bn=False, pool=False)\n",
    "_ = conv_block(_, filters=32*2)\n",
    "_ = conv_block(_, filters=32*3)\n",
    "_ = conv_block(_, filters=32*4)\n",
    "_ = conv_block(_, filters=32*5)\n",
    "_ = conv_block(_, filters=32*6)\n",
    "bottleneck = GlobalMaxPool2D()(_)\n",
    "\n",
    "# for age calculation\n",
    "_ = Dense(units=128, activation='relu')(bottleneck)\n",
    "age_output = Dense(units=1, activation='sigmoid', name='age_output')(_)\n",
    "\n",
    "# for race prediction\n",
    "_ = Dense(units=128, activation='relu')(bottleneck)\n",
    "race_output = Dense(units=len(RACE_ID_MAP), activation='softmax', name='race_output')(_)\n",
    "\n",
    "# for gender prediction\n",
    "_ = Dense(units=128, activation='relu')(bottleneck)\n",
    "gender_output = Dense(units=len(GENDER_ID_MAP), activation='softmax', name='gender_output')(_)\n",
    "\n",
    "model = Model(inputs=input_layer, outputs=[age_output, race_output, gender_output])\n",
    "model.compile(optimizer='rmsprop', \n",
    "              loss={'age_output': 'mse', 'race_output': 'categorical_crossentropy', 'gender_output': 'categorical_crossentropy'},\n",
    "              loss_weights={'age_output': 2., 'race_output': 1.5, 'gender_output': 1.},\n",
    "              metrics={'age_output': 'mae', 'race_output': 'accuracy', 'gender_output': 'accuracy'})\n",
    "# model.summary()"
   ]
  },
  {
   "cell_type": "code",
   "execution_count": null,
   "metadata": {
    "_uuid": "e623d31c68be2b4f61c3f72749b23e1c694da729",
    "collapsed": true,
    "scrolled": true
   },
   "outputs": [],
   "source": [
    "from keras.callbacks import ModelCheckpoint\n",
    "\n",
    "batch_size = 64\n",
    "valid_batch_size = 64\n",
    "train_gen = get_data_generator(df, train_idx, for_training=True, batch_size=batch_size)\n",
    "valid_gen = get_data_generator(df, valid_idx, for_training=True, batch_size=valid_batch_size)\n",
    "\n",
    "callbacks = [\n",
    "    ModelCheckpoint(\"./model_checkpoint\", monitor='val_loss')\n",
    "]\n",
    "\n",
    "history = model.fit_generator(train_gen,\n",
    "                    steps_per_epoch=len(train_idx)//batch_size,\n",
    "                    epochs=10,\n",
    "                    callbacks=callbacks,\n",
    "                    validation_data=valid_gen,\n",
    "                    validation_steps=len(valid_idx)//valid_batch_size)\n",
    "                    \n"
   ]
  },
  {
   "cell_type": "code",
   "execution_count": null,
   "metadata": {
    "_uuid": "5f764bc8c13608a9777e4dc63e00275d243570c2",
    "collapsed": true
   },
   "outputs": [],
   "source": [
    "def  plot_train_history(history):\n",
    "    fig, axes = plt.subplots(1, 4, figsize=(20, 5))\n",
    "    axes[0].plot(history.history['race_output_acc'], label='Race Train accuracy')\n",
    "    axes[0].plot(history.history['val_race_output_acc'], label='Race Val accuracy')\n",
    "    axes[0].set_xlabel('Epochs')\n",
    "    axes[0].legend()\n",
    "    \n",
    "    axes[1].plot(history.history['gender_output_acc'], label='Gender Train accuracy')\n",
    "    axes[1].plot(history.history['val_gender_output_acc'], label='Gener Val accuracy')\n",
    "    axes[1].set_xlabel('Epochs')\n",
    "    axes[1].legend()\n",
    "\n",
    "    axes[2].plot(history.history['age_output_mean_absolute_error'], label='Age Train MAE')\n",
    "    axes[2].plot(history.history['val_age_output_mean_absolute_error'], label='Age Val MAE')\n",
    "    axes[2].set_xlabel('Epochs')\n",
    "    axes[2].legend()  \n",
    "\n",
    "    axes[3].plot(history.history['loss'], label='Training loss')\n",
    "    axes[3].plot(history.history['val_loss'], label='Validation loss')\n",
    "    axes[3].set_xlabel('Epochs')\n",
    "    axes[3].legend()\n",
    "\n",
    "plot_train_history(history)"
   ]
  },
  {
   "cell_type": "code",
   "execution_count": null,
   "metadata": {
    "_uuid": "a33d2008b8da404b134a39a8c25d216cb2c6c533",
    "collapsed": true
   },
   "outputs": [],
   "source": [
    "test_gen = get_data_generator(df, test_idx, for_training=False, batch_size=128)\n",
    "dict(zip(model.metrics_names, model.evaluate_generator(test_gen, steps=len(test_idx)//128)))"
   ]
  },
  {
   "cell_type": "code",
   "execution_count": null,
   "metadata": {
    "_uuid": "e4f8ee9244872a68e902cefc7ae1825ac7a94ce3",
    "collapsed": true
   },
   "outputs": [],
   "source": [
    "test_gen = get_data_generator(df, test_idx, for_training=False, batch_size=128)\n",
    "x_test, (age_true, race_true, gender_true)= next(test_gen)\n",
    "age_pred, race_pred, gender_pred = model.predict_on_batch(x_test)"
   ]
  },
  {
   "cell_type": "code",
   "execution_count": null,
   "metadata": {
    "_uuid": "625bef1ee6a62be465d11354963fd049cf8c57b5",
    "collapsed": true
   },
   "outputs": [],
   "source": [
    "race_true, gender_true = race_true.argmax(axis=-1), gender_true.argmax(axis=-1)\n",
    "race_pred, gender_pred = race_pred.argmax(axis=-1), gender_pred.argmax(axis=-1)\n",
    "age_true = age_true * max_age\n",
    "age_pred = age_pred * max_age"
   ]
  },
  {
   "cell_type": "code",
   "execution_count": null,
   "metadata": {
    "_uuid": "4c94da427745673a748afe309fc009e2a97b72b4",
    "collapsed": true
   },
   "outputs": [],
   "source": [
    "from sklearn.metrics import classification_report\n",
    "print(\"Classification report for race\")\n",
    "print(classification_report(race_true, race_pred))\n",
    "\n",
    "print(\"\\nClassification report for gender\")\n",
    "print(classification_report(gender_true, gender_pred))\n"
   ]
  },
  {
   "cell_type": "code",
   "execution_count": null,
   "metadata": {
    "_uuid": "f207a3b95ddd1cfddaf7dd7cc0f61c703db0d48b",
    "collapsed": true
   },
   "outputs": [],
   "source": [
    "import math\n",
    "n = 30\n",
    "random_indices = np.random.permutation(n)\n",
    "n_cols = 5\n",
    "n_rows = math.ceil(n / n_cols)\n",
    "fig, axes = plt.subplots(n_rows, n_cols, figsize=(15, 20))\n",
    "for i, img_idx in enumerate(random_indices):\n",
    "    ax = axes.flat[i]\n",
    "    ax.imshow(x_test[img_idx])\n",
    "    ax.set_title('a:{}, g:{}, r:{}'.format(int(age_pred[img_idx]), ID_GENDER_MAP[gender_pred[img_idx]], ID_RACE_MAP[race_pred[img_idx]]))\n",
    "    ax.set_xlabel('a:{}, g:{}, r:{}'.format(int(age_true[img_idx]), ID_GENDER_MAP[gender_true[img_idx]], ID_RACE_MAP[race_true[img_idx]]))\n",
    "    ax.set_xticks([])\n",
    "    ax.set_yticks([])\n",
    "    "
   ]
  },
  {
   "cell_type": "code",
   "execution_count": null,
   "metadata": {
    "_uuid": "4df916174f1968266afc17988e4bb02cf1cccca0",
    "collapsed": true
   },
   "outputs": [],
   "source": []
  },
  {
   "cell_type": "code",
   "execution_count": null,
   "metadata": {
    "_uuid": "b269b292feb5d018ce8d7f6ec45eea06de6c581b",
    "collapsed": true
   },
   "outputs": [],
   "source": []
  },
  {
   "cell_type": "code",
   "execution_count": null,
   "metadata": {
    "_uuid": "01b2658ac01f423ab0ee1137d3b94054c083c018",
    "collapsed": true
   },
   "outputs": [],
   "source": []
  },
  {
   "cell_type": "code",
   "execution_count": null,
   "metadata": {
    "_uuid": "06f185fb8e1863d3bc9003d1a13e312cd554ceaf",
    "collapsed": true
   },
   "outputs": [],
   "source": []
  },
  {
   "cell_type": "code",
   "execution_count": null,
   "metadata": {
    "_uuid": "ae92b82f031d82f1f68c2547c992e1ccbda4de21",
    "collapsed": true
   },
   "outputs": [],
   "source": []
  }
 ],
 "metadata": {
  "kernelspec": {
   "display_name": "Python 3",
   "language": "python",
   "name": "python3"
  },
  "language_info": {
   "codemirror_mode": {
    "name": "ipython",
    "version": 3
   },
   "file_extension": ".py",
   "mimetype": "text/x-python",
   "name": "python",
   "nbconvert_exporter": "python",
   "pygments_lexer": "ipython3",
   "version": "3.6.8"
  }
 },
 "nbformat": 4,
 "nbformat_minor": 1
}
